{
 "cells": [
  {
   "cell_type": "code",
   "execution_count": null,
   "metadata": {},
   "outputs": [],
   "source": [
    "#calculate LCM with default values (my method)\n",
    "def cal_lcm(a=5,b=10):\n",
    "    lcm=1 \n",
    "print(\"The lcm of two numbers is \", cal_lcm())"
   ]
  },
  {
   "cell_type": "code",
   "execution_count": 6,
   "metadata": {},
   "outputs": [
    {
     "name": "stdout",
     "output_type": "stream",
     "text": [
      "51\n"
     ]
    }
   ],
   "source": [
    "x, y = map(int, input(\"Enter 2 number with space: \").split())\n",
    "greater=max(x,y)\n",
    "while(True):\n",
    "  if(greater%x==0 and greater%y==0):\n",
    "    break\n",
    "  greater+=1\n",
    "print(greater)\n"
   ]
  },
  {
   "cell_type": "code",
   "execution_count": 10,
   "metadata": {},
   "outputs": [
    {
     "name": "stdout",
     "output_type": "stream",
     "text": [
      "Number is prime\n"
     ]
    }
   ],
   "source": [
    "#prime numbers\n",
    "x= int(input(\"Enter 2 number with space: \"))\n",
    "for i in range(2,x):\n",
    "    if(x%i==0):\n",
    "        print(\"Number is not prime\")\n",
    "        break\n",
    "else:\n",
    "    print(\"Number is prime\")"
   ]
  },
  {
   "cell_type": "code",
   "execution_count": 15,
   "metadata": {},
   "outputs": [
    {
     "ename": "ValueError",
     "evalue": "not enough values to unpack (expected 2, got 0)",
     "output_type": "error",
     "traceback": [
      "\u001b[1;31m---------------------------------------------------------------------------\u001b[0m",
      "\u001b[1;31mValueError\u001b[0m                                Traceback (most recent call last)",
      "Cell \u001b[1;32mIn[15], line 7\u001b[0m\n\u001b[0;32m      5\u001b[0m           \u001b[39mreturn\u001b[39;00m \u001b[39mFalse\u001b[39;00m\n\u001b[0;32m      6\u001b[0m     \u001b[39mreturn\u001b[39;00m \u001b[39mTrue\u001b[39;00m\n\u001b[1;32m----> 7\u001b[0m x, y \u001b[39m=\u001b[39m \u001b[39mmap\u001b[39m(\u001b[39mint\u001b[39m, \u001b[39minput\u001b[39m(\u001b[39m\"\u001b[39m\u001b[39mEnter 2 number with space: \u001b[39m\u001b[39m\"\u001b[39m)\u001b[39m.\u001b[39msplit())\n\u001b[0;32m      8\u001b[0m smaller \u001b[39m=\u001b[39m \u001b[39mmin\u001b[39m(x,y)\n\u001b[0;32m      9\u001b[0m hcf\u001b[39m=\u001b[39m\u001b[39m1\u001b[39m\n",
      "\u001b[1;31mValueError\u001b[0m: not enough values to unpack (expected 2, got 0)"
     ]
    }
   ],
   "source": [
    "#theoretical error in hcf\n",
    "def prime(x):  \n",
    "    for i in range(2,x):\n",
    "        if(x%i==0):\n",
    "          return False\n",
    "    return True\n",
    "x, y = map(int, input(\"Enter 2 number with space: \").split())\n",
    "smaller = min(x,y)\n",
    "hcf=1\n",
    "for i in range(2,smaller):\n",
    "    if(x%i==0 and y%i==0 and prime(i)):\n",
    "          hcf=i\n",
    "    \n",
    "print(hcf)"
   ]
  },
  {
   "cell_type": "code",
   "execution_count": 18,
   "metadata": {},
   "outputs": [
    {
     "ename": "ValueError",
     "evalue": "not enough values to unpack (expected 2, got 0)",
     "output_type": "error",
     "traceback": [
      "\u001b[1;31m---------------------------------------------------------------------------\u001b[0m",
      "\u001b[1;31mValueError\u001b[0m                                Traceback (most recent call last)",
      "Cell \u001b[1;32mIn[18], line 2\u001b[0m\n\u001b[0;32m      1\u001b[0m \u001b[39m# hcf/gcd\u001b[39;00m\n\u001b[1;32m----> 2\u001b[0m x, y \u001b[39m=\u001b[39m \u001b[39mmap\u001b[39m(\u001b[39mint\u001b[39m, \u001b[39minput\u001b[39m(\u001b[39m\"\u001b[39m\u001b[39mEnter 2 number with space: \u001b[39m\u001b[39m\"\u001b[39m)\u001b[39m.\u001b[39msplit())\n\u001b[0;32m      3\u001b[0m smaller \u001b[39m=\u001b[39m \u001b[39mmin\u001b[39m(x,y)\n\u001b[0;32m      4\u001b[0m hcf\u001b[39m=\u001b[39m\u001b[39m1\u001b[39m\n",
      "\u001b[1;31mValueError\u001b[0m: not enough values to unpack (expected 2, got 0)"
     ]
    }
   ],
   "source": [
    "# hcf/gcd\n",
    "x, y = map(int, input(\"Enter 2 number with space: \").split())\n",
    "smaller = min(x,y)\n",
    "hcf=1\n",
    "for i in range(2,smaller):\n",
    "    if(x%i==0 and y%i==0):\n",
    "          hcf=i\n",
    "    \n",
    "print(hcf)"
   ]
  },
  {
   "cell_type": "code",
   "execution_count": 31,
   "metadata": {},
   "outputs": [
    {
     "name": "stdout",
     "output_type": "stream",
     "text": [
      "0, 1 1 2 3 5 8 13 21 34 55 89 144 "
     ]
    }
   ],
   "source": [
    "#fibonacci\n",
    "no = int(input(\"Enter the nu\"))\n",
    "a=0 \n",
    "b=1\n",
    "print(f\"{a}, {b}\", end=\" \")\n",
    "for x in range(0,no+1):\n",
    "    c=a+b\n",
    "    print(f\"{c}\", sep=\",\",end=\" \")\n",
    "    a=b\n",
    "    b=c\n"
   ]
  },
  {
   "cell_type": "code",
   "execution_count": 23,
   "metadata": {},
   "outputs": [
    {
     "name": "stdout",
     "output_type": "stream",
     "text": [
      "120\n"
     ]
    }
   ],
   "source": [
    "#factorial \n",
    "no = int(input(\"Enter the nu\"))\n",
    "fact=1\n",
    "for x in range(2,no+1):\n",
    "    fact=fact*x\n",
    "print(fact)"
   ]
  }
 ],
 "metadata": {
  "kernelspec": {
   "display_name": "Python 3",
   "language": "python",
   "name": "python3"
  },
  "language_info": {
   "codemirror_mode": {
    "name": "ipython",
    "version": 3
   },
   "file_extension": ".py",
   "mimetype": "text/x-python",
   "name": "python",
   "nbconvert_exporter": "python",
   "pygments_lexer": "ipython3",
   "version": "3.11.3"
  },
  "orig_nbformat": 4
 },
 "nbformat": 4,
 "nbformat_minor": 2
}
