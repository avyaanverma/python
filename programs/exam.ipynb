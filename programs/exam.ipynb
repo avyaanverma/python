{
 "cells": [
  {
   "cell_type": "code",
   "execution_count": null,
   "metadata": {},
   "outputs": [
    {
     "name": "stdout",
     "output_type": "stream",
     "text": [
      "range(1, 7)\n",
      "<class 'range'>\n",
      "<class 'range'>\n",
      "1\n",
      "2\n",
      "3\n",
      "4\n",
      "5\n",
      "6\n"
     ]
    }
   ],
   "source": [
    "num = range(1,7)\n",
    "print(num)\n",
    "print(type(num))\n",
    "print(type(range(1)))\n",
    "\n",
    "for x in num :\n",
    "    print(x)"
   ]
  },
  {
   "cell_type": "code",
   "execution_count": 6,
   "metadata": {},
   "outputs": [
    {
     "name": "stdout",
     "output_type": "stream",
     "text": [
      "10\n"
     ]
    }
   ],
   "source": [
    "#sum of n numbers using for which you want to sum\n",
    "n = int(input(\"Enter how many numbers you want sum of \"))\n",
    "sum = 0 \n",
    "for x in range(1,n):\n",
    "    sum += x \n",
    "print(sum)"
   ]
  },
  {
   "cell_type": "code",
   "execution_count": 11,
   "metadata": {},
   "outputs": [
    {
     "name": "stdout",
     "output_type": "stream",
     "text": [
      "program starts\n",
      "1\n",
      "2\n",
      "3\n",
      "4\n",
      "OUTSIDE WHILE LOOP\n"
     ]
    }
   ],
   "source": [
    "i=1\n",
    "print(\"program starts\")\n",
    "while i<= 10: \n",
    "    print(i)\n",
    "    i=i+1\n",
    "    if i==5:\n",
    "        break\n",
    "else: \n",
    "    print(\"Loop has Ended\") \n",
    "print(\"OUTSIDE WHILE LOOP\")"
   ]
  },
  {
   "cell_type": "code",
   "execution_count": 21,
   "metadata": {},
   "outputs": [
    {
     "name": "stdout",
     "output_type": "stream",
     "text": [
      "/*************************************/\n",
      "1\n",
      "2\n",
      "3\n",
      "4\n",
      "5\n",
      "/*************************************/\n"
     ]
    }
   ],
   "source": [
    "\n",
    "print(\"/*************************************/\")\n",
    "i,j=1,1\n",
    "while(i<6):\n",
    "    while(j<6):\n",
    "        print(j),\n",
    "        j=j+1\n",
    "    i+=1\n",
    "print(\"/*************************************/\")\n",
    "# we cannot print patterns using while loop because the values of i and j are already initialized and they are not changed when we iterate the loop \n",
    "# However in For loops this is not the case \n",
    "# in For loops the value of i and j are intialized at every iteration of them "
   ]
  },
  {
   "cell_type": "code",
   "execution_count": 26,
   "metadata": {},
   "outputs": [
    {
     "name": "stdout",
     "output_type": "stream",
     "text": [
      "/*************************************/\n",
      "1 \n",
      "1 2 \n",
      "1 2 3 \n",
      "1 2 3 4 \n",
      "1 2 3 4 5 \n",
      "/*************************************/\n"
     ]
    }
   ],
   "source": [
    "print(\"/*************************************/\")\n",
    "for i in range(1,6):\n",
    "    for j in range(1,i+1):\n",
    "        # print(j),\n",
    "        print(j, end=\" \")\n",
    "    print()\n",
    "print(\"/*************************************/\")"
   ]
  },
  {
   "cell_type": "code",
   "execution_count": 27,
   "metadata": {},
   "outputs": [
    {
     "data": {
      "text/plain": [
       "'The pass statement is used as a placeholder for future code.\\n\\nWhen the pass statement is executed, nothing happens, but you avoid getting an error when empty code is not allowed.\\n\\nEmpty code is not allowed in loops, function definitions, class definitions, or in if statements.'"
      ]
     },
     "execution_count": 27,
     "metadata": {},
     "output_type": "execute_result"
    }
   ],
   "source": [
    "\"\"\"The pass statement is used as a placeholder for future code.\n",
    "\n",
    "When the pass statement is executed, nothing happens, but you avoid getting an error when empty code is not allowed.\n",
    "\n",
    "Empty code is not allowed in loops, function definitions, class definitions, or in if statements.\"\"\""
   ]
  }
 ],
 "metadata": {
  "kernelspec": {
   "display_name": "Python 3",
   "language": "python",
   "name": "python3"
  },
  "language_info": {
   "codemirror_mode": {
    "name": "ipython",
    "version": 3
   },
   "file_extension": ".py",
   "mimetype": "text/x-python",
   "name": "python",
   "nbconvert_exporter": "python",
   "pygments_lexer": "ipython3",
   "version": "3.11.3"
  },
  "orig_nbformat": 4
 },
 "nbformat": 4,
 "nbformat_minor": 2
}
