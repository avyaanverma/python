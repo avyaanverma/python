{
 "cells": [
  {
   "cell_type": "markdown",
   "id": "61c66759",
   "metadata": {},
   "source": [
    "# Tuples and Lists"
   ]
  },
  {
   "cell_type": "code",
   "execution_count": 17,
   "id": "5f532e1b",
   "metadata": {},
   "outputs": [
    {
     "name": "stdout",
     "output_type": "stream",
     "text": [
      "Enter the marks for the student's45\n",
      "Enter the marks for the student's78\n",
      "Enter the marks for the student's41\n",
      "Enter the marks for the student's12\n",
      "Enter the marks for the student's68\n",
      "Enter the marks for the student's74\n",
      "[12, 45, 48, 42, 25, 56]\n",
      "[12, 25, 42, 45, 48, 56]\n"
     ]
    }
   ],
   "source": [
    "#program to accept 6 subject's marks and display them in a sorted manner\n",
    "\n",
    "for i in t:\n",
    "    i=input(\"Enter the marks for the student's\")\n",
    "print(t)\n",
    "\n",
    "t.sort()\n",
    "print(t)"
   ]
  },
  {
   "cell_type": "code",
   "execution_count": 16,
   "id": "a3f437bd",
   "metadata": {},
   "outputs": [
    {
     "ename": "SyntaxError",
     "evalue": "cannot assign to function call here. Maybe you meant '==' instead of '='? (1605229852.py, line 4)",
     "output_type": "error",
     "traceback": [
      "\u001b[1;36m  Cell \u001b[1;32mIn[16], line 4\u001b[1;36m\u001b[0m\n\u001b[1;33m    t(2)=48\u001b[0m\n\u001b[1;37m    ^\u001b[0m\n\u001b[1;31mSyntaxError\u001b[0m\u001b[1;31m:\u001b[0m cannot assign to function call here. Maybe you meant '==' instead of '='?\n"
     ]
    }
   ],
   "source": [
    "# Check that tuple cannot be changed\n",
    "t=(12,45,47,42,25,56)\n",
    "print(t)\n",
    "t(2)=48"
   ]
  },
  {
   "cell_type": "code",
   "execution_count": 14,
   "id": "dc6c3974",
   "metadata": {},
   "outputs": [
    {
     "name": "stdout",
     "output_type": "stream",
     "text": [
      "297\n"
     ]
    }
   ],
   "source": [
    "# program to sum a list with 4 numbers\n",
    "sum = 0 \n",
    "t = [11,47,78,98,63]\n",
    "for i in t:\n",
    "    sum= i+sum\n",
    "print(sum)"
   ]
  },
  {
   "cell_type": "code",
   "execution_count": 20,
   "id": "6e117dbb",
   "metadata": {},
   "outputs": [
    {
     "name": "stdout",
     "output_type": "stream",
     "text": [
      "The number of zeroes in a is :  3\n"
     ]
    }
   ],
   "source": [
    "# Write a program to count the number zeroes in the following topic \n",
    "a = (7,0,8,0,0,9)\n",
    "b=0\n",
    "for i in a:\n",
    "    if i==0:\n",
    "        b=b+1\n",
    "print(\"The number of zeroes in a is : \", b)"
   ]
  },
  {
   "cell_type": "markdown",
   "id": "91dafccb",
   "metadata": {},
   "source": [
    "# Dictonary and Sets"
   ]
  },
  {
   "cell_type": "code",
   "execution_count": null,
   "id": "988f15d9",
   "metadata": {},
   "outputs": [],
   "source": []
  }
 ],
 "metadata": {
  "kernelspec": {
   "display_name": "Python 3 (ipykernel)",
   "language": "python",
   "name": "python3"
  },
  "language_info": {
   "codemirror_mode": {
    "name": "ipython",
    "version": 3
   },
   "file_extension": ".py",
   "mimetype": "text/x-python",
   "name": "python",
   "nbconvert_exporter": "python",
   "pygments_lexer": "ipython3",
   "version": "3.10.11"
  }
 },
 "nbformat": 4,
 "nbformat_minor": 5
}
