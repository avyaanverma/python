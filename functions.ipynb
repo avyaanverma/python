{
 "cells": [
  {
   "cell_type": "code",
   "execution_count": null,
   "metadata": {},
   "outputs": [],
   "source": [
    "# #A function is a chunk of code \n",
    "# # with a function name that is used to do repetive tasks\n",
    "# that we may use when we want to a particular task\n",
    "# a caller is a function that calls another function \n",
    "# a callee is a function that was called \n",
    "# callee is writing the chunk of code with first level identation \n",
    "# the code insde a fucntion only runs when it is called \n",
    "# a funciton can return data to ther caller \n",
    "# unlike  other programming languages it doesn't \n",
    "#specify the return type also it returns multiple return values \n"
   ]
  },
  {
   "cell_type": "code",
   "execution_count": 1,
   "metadata": {},
   "outputs": [
    {
     "name": "stdout",
     "output_type": "stream",
     "text": [
      "Hello World\n"
     ]
    }
   ],
   "source": [
    "# function must be defined before the function is called \n",
    "def hello_world():  \n",
    "    print(\"Hello World\")\n",
    "hello_world()"
   ]
  },
  {
   "cell_type": "code",
   "execution_count": 2,
   "metadata": {},
   "outputs": [
    {
     "name": "stdout",
     "output_type": "stream",
     "text": [
      "Hi  Avyaan\n"
     ]
    }
   ],
   "source": [
    "#parameters in functions \n",
    "def func(name): \n",
    "    print(\"Hi \", name )\n",
    "name = input(\"Enter your name\")\n",
    "func(name)\n",
    "\n",
    "\n"
   ]
  },
  {
   "cell_type": "code",
   "execution_count": 4,
   "metadata": {},
   "outputs": [
    {
     "ename": "AttributeError",
     "evalue": "'str' object has no attribute 'slice'",
     "output_type": "error",
     "traceback": [
      "\u001b[1;31m---------------------------------------------------------------------------\u001b[0m",
      "\u001b[1;31mAttributeError\u001b[0m                            Traceback (most recent call last)",
      "Cell \u001b[1;32mIn[4], line 4\u001b[0m\n\u001b[0;32m      2\u001b[0m \u001b[39mdef\u001b[39;00m \u001b[39msum\u001b[39m(a,b):\n\u001b[0;32m      3\u001b[0m     \u001b[39mprint\u001b[39m(\u001b[39m\"\u001b[39m\u001b[39mThe sum of a and b is \u001b[39m\u001b[39m\"\u001b[39m, a\u001b[39m+\u001b[39mb)\n\u001b[1;32m----> 4\u001b[0m a,b \u001b[39m=\u001b[39m \u001b[39mmap\u001b[39m(\u001b[39mint\u001b[39m,\u001b[39minput\u001b[39;49m(\u001b[39m\"\u001b[39;49m\u001b[39mEnter you number\u001b[39;49m\u001b[39m\"\u001b[39;49m)\u001b[39m.\u001b[39;49mslice())\n\u001b[0;32m      6\u001b[0m \u001b[39m#slice() method extracts a part of a string returns the extraced part in a new string\u001b[39;00m\n\u001b[0;32m      7\u001b[0m \u001b[39m# \u001b[39;00m\n",
      "\u001b[1;31mAttributeError\u001b[0m: 'str' object has no attribute 'slice'"
     ]
    }
   ],
   "source": [
    "# sum of two numbers \n",
    "def sum(a,b):\n",
    "    print(\"The sum of a and b is \", a+b)\n",
    "a,b = map(int,input(\"Enter you number\").split())\n",
    "\n"
   ]
  },
  {
   "cell_type": "code",
   "execution_count": 1,
   "metadata": {},
   "outputs": [
    {
     "name": "stdout",
     "output_type": "stream",
     "text": [
      "avyaan\n",
      "13\n",
      "avyaan\n",
      "13\n",
      "avyaan\n",
      "14\n"
     ]
    }
   ],
   "source": [
    "def person(name,age=19):\n",
    "    print(name)\n",
    "    print(age-5)\n",
    "#postional arguments \n",
    "#means position of variables values given matters\n",
    "\n",
    "person('avyaan',18)\n",
    "\n",
    "#but what if I don't know the sequence of \n",
    "# the function positions \n",
    "person (age=18,name = 'avyaan')# keyword arguments\n",
    "\n",
    "person ('avyaan')#expected 2 given only one\n",
    "#In this case I have give the default arguments \n",
    "# to the function\n",
    "\n",
    "\n",
    "\n"
   ]
  },
  {
   "cell_type": "code",
   "execution_count": 6,
   "metadata": {},
   "outputs": [
    {
     "name": "stdout",
     "output_type": "stream",
     "text": [
      "127\n"
     ]
    }
   ],
   "source": [
    "def sum(a,*b):\n",
    "    for x in b: \n",
    "        a = a+x\n",
    "    print(a)\n",
    "\n",
    "sum(5,6,11,47,58)\n",
    "#lets say I want to accept multiple\n",
    "# values in to the function\n",
    "# it is a very lengthy process\n",
    "# VARIABLE LENGTH ARGUMENTS\n",
    "#The asterisk is put because of variable length arguments"
   ]
  },
  {
   "cell_type": "code",
   "execution_count": 7,
   "metadata": {},
   "outputs": [
    {
     "name": "stdout",
     "output_type": "stream",
     "text": [
      "avyaan\n",
      "(28, 'Mumbai', 9875862218)\n"
     ]
    }
   ],
   "source": [
    "def person(name, *data):#tuple is take as input\n",
    "    print(name)\n",
    "    print(data)\n",
    "person('avyaan',28,'Mumbai', 9875862218) \n",
    "#Keyword Variable Length Arguments "
   ]
  }
 ],
 "metadata": {
  "kernelspec": {
   "display_name": "Python 3",
   "language": "python",
   "name": "python3"
  },
  "language_info": {
   "codemirror_mode": {
    "name": "ipython",
    "version": 3
   },
   "file_extension": ".py",
   "mimetype": "text/x-python",
   "name": "python",
   "nbconvert_exporter": "python",
   "pygments_lexer": "ipython3",
   "version": "3.11.3"
  },
  "orig_nbformat": 4
 },
 "nbformat": 4,
 "nbformat_minor": 2
}
