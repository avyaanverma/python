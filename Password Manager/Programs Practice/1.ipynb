{
 "cells": [
  {
   "cell_type": "code",
   "execution_count": null,
   "metadata": {},
   "outputs": [],
   "source": [
    "#write a program to accept a charcter from the user and display whether it is a vowel or a consonant \n",
    "a =input(\"Enter one character\") #accepting a string and taking it's first character otherwise only character \n",
    "listvowel= ['a','e','i','o','u'] #inputing a list \n",
    "for i in listvowel: \n",
    "    if a[0]==i:\n",
    "        print(f\"The entered character is a vowel\", a[0])\n",
    "        break;\n",
    "else:\n",
    "    print(f\"The entered character is a consonant\", a[0] ) \n"
   ]
  },
  {
   "cell_type": "code",
   "execution_count": null,
   "metadata": {},
   "outputs": [],
   "source": [
    "#write a program to accept a charcter from the user and display whether it is a vowel or a consonant \n",
    "#2nd apprach using exception handling\n",
    "a =input(\"Enter one character\") #accepting a string and taking it's first character otherwise only character \n",
    "listvowel= ['a','e','i','o','u'] #inputing a list \n",
    "for i in listvowel: \n",
    "    if a[0]==i:\n",
    "        print(f\"The entered character is a vowel\", a[0])\n",
    "        break;\n",
    "else:\n",
    "    print(f\"The entered character is a consonant\", a[0] ) "
   ]
  },
  {
   "cell_type": "code",
   "execution_count": null,
   "metadata": {},
   "outputs": [],
   "source": [
    "#WAP to accept a number from the user and print the  table of that number \n",
    "\n",
    "def takeinput():\n",
    "    a=int(input(\"Enter a number other than 0 to print the table : \"))\n",
    "    if(a<=0):\n",
    "        takeinput()\n",
    "    return a\n",
    "no = takeinput()\n",
    "\n",
    "for i in range(1,11):\n",
    "    # print(\"{no} times {i} is equal to {c}\".format(c=no*i))\n",
    "    print(no, \"times\", i, \"is equal to\", i*no, sep=\" \")\n"
   ]
  },
  {
   "cell_type": "code",
   "execution_count": 15,
   "metadata": {},
   "outputs": [
    {
     "name": "stdout",
     "output_type": "stream",
     "text": [
      "0, 1 1, 2, 3, 5, 8, 13, 21, "
     ]
    }
   ],
   "source": [
    "#WAP to print Fibonacci series to a certain limit\n",
    "def takeinput():\n",
    "    a=int(input(\"Enter a number other than 0 to Fibonacci series: \"))\n",
    "    if(a<=0):\n",
    "        takeinput()\n",
    "    return a\n",
    "n = takeinput()\n",
    "i=0\n",
    "i2=1\n",
    "print(i,i2,sep=\", \", end=\", \")\n",
    "while(i<=n):\n",
    "    i3=i+i2\n",
    "    print(i3, end=\", \")\n",
    "    i=i2\n",
    "    i2=i3\n",
    "\n",
    "#0,1,1,2,3,5,8.....n\n"
   ]
  },
  {
   "cell_type": "code",
   "execution_count": 19,
   "metadata": {},
   "outputs": [
    {
     "ename": "ValueError",
     "evalue": "invalid literal for int() with base 10: ''",
     "output_type": "error",
     "traceback": [
      "\u001b[1;31m---------------------------------------------------------------------------\u001b[0m",
      "\u001b[1;31mValueError\u001b[0m                                Traceback (most recent call last)",
      "Cell \u001b[1;32mIn[19], line 7\u001b[0m\n\u001b[0;32m      5\u001b[0m         takeinput()\n\u001b[0;32m      6\u001b[0m     \u001b[39mreturn\u001b[39;00m a\n\u001b[1;32m----> 7\u001b[0m n \u001b[39m=\u001b[39m takeinput()\n\u001b[0;32m      8\u001b[0m i\u001b[39m=\u001b[39m\u001b[39m2\u001b[39m\n\u001b[0;32m      9\u001b[0m \u001b[39mwhile\u001b[39;00m(i\u001b[39m<\u001b[39mn):\n",
      "Cell \u001b[1;32mIn[19], line 3\u001b[0m, in \u001b[0;36mtakeinput\u001b[1;34m()\u001b[0m\n\u001b[0;32m      2\u001b[0m \u001b[39mdef\u001b[39;00m \u001b[39mtakeinput\u001b[39m():\n\u001b[1;32m----> 3\u001b[0m     a\u001b[39m=\u001b[39m\u001b[39mint\u001b[39;49m(\u001b[39minput\u001b[39;49m(\u001b[39m\"\u001b[39;49m\u001b[39mEnter a number other than 0 prime no: \u001b[39;49m\u001b[39m\"\u001b[39;49m))\n\u001b[0;32m      4\u001b[0m     \u001b[39mif\u001b[39;00m(a\u001b[39m<\u001b[39m\u001b[39m=\u001b[39m\u001b[39m0\u001b[39m):\n\u001b[0;32m      5\u001b[0m         takeinput()\n",
      "\u001b[1;31mValueError\u001b[0m: invalid literal for int() with base 10: ''"
     ]
    }
   ],
   "source": [
    "#Write a program to enter a number and check if it is prime or not \n",
    "def takeinput():\n",
    "    a=int(input(\"Enter a number other than 0 prime no: \"))\n",
    "    if(a<=0):\n",
    "        takeinput()\n",
    "    return a\n",
    "n = takeinput()\n",
    "i=2\n",
    "while(i<n):\n",
    "    if n%i==0:\n",
    "        print(\"It is not a prime no as it is divisible by \", i)\n",
    "        break\n",
    "    i+=1\n",
    "else:\n",
    "    print(\"It is a prime no \")\n",
    "        "
   ]
  },
  {
   "cell_type": "code",
   "execution_count": 21,
   "metadata": {},
   "outputs": [
    {
     "name": "stdout",
     "output_type": "stream",
     "text": [
      "It is not a prime no as it is divisible by  3, 19, "
     ]
    }
   ],
   "source": [
    "#Write a program to enter a number and check if it is prime or not and print it's factors if not\n",
    "def takeinput():\n",
    "    a=int(input(\"Enter a number other than 0 prime no: \"))\n",
    "    if(a<=0):\n",
    "        takeinput()\n",
    "    return a\n",
    "n = takeinput()\n",
    "i=2\n",
    "while(i<n):\n",
    "    if n%i==0:\n",
    "        print(\"It is not a prime no as it is divisible by \", i, end=\", \")\n",
    "        while(i<n):\n",
    "            i+=1\n",
    "            if(n%i==0):\n",
    "                print(i, end=\", \")\n",
    "                break\n",
    "        break\n",
    "    i+=1\n",
    "else:\n",
    "    print(\"It is a prime no \")\n",
    "        "
   ]
  }
 ],
 "metadata": {
  "kernelspec": {
   "display_name": "Python 3",
   "language": "python",
   "name": "python3"
  },
  "language_info": {
   "codemirror_mode": {
    "name": "ipython",
    "version": 3
   },
   "file_extension": ".py",
   "mimetype": "text/x-python",
   "name": "python",
   "nbconvert_exporter": "python",
   "pygments_lexer": "ipython3",
   "version": "3.11.3"
  },
  "orig_nbformat": 4
 },
 "nbformat": 4,
 "nbformat_minor": 2
}
