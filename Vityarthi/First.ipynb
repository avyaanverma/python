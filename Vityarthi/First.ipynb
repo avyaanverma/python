{
 "cells": [
  {
   "cell_type": "markdown",
   "id": "bc8aca40-42b5-4816-8e38-6e52c13157ef",
   "metadata": {},
   "source": [
    "**Welcome to Jupyter Lab**"
   ]
  },
  {
   "cell_type": "code",
   "execution_count": 1,
   "id": "5879b323-d878-403a-875f-696de3435098",
   "metadata": {
    "tags": []
   },
   "outputs": [],
   "source": [
    "a = 34 "
   ]
  },
  {
   "cell_type": "code",
   "execution_count": 4,
   "id": "e6242ab7-16f4-431c-ad15-05d121a54fc5",
   "metadata": {
    "tags": []
   },
   "outputs": [],
   "source": [
    "b=145"
   ]
  }
 ],
 "metadata": {
  "kernelspec": {
   "display_name": "Python 3 (ipykernel)",
   "language": "python",
   "name": "python3"
  },
  "language_info": {
   "codemirror_mode": {
    "name": "ipython",
    "version": 3
   },
   "file_extension": ".py",
   "mimetype": "text/x-python",
   "name": "python",
   "nbconvert_exporter": "python",
   "pygments_lexer": "ipython3",
   "version": "3.11.3"
  }
 },
 "nbformat": 4,
 "nbformat_minor": 5
}
