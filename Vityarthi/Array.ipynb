{
 "cells": [
  {
   "cell_type": "code",
   "execution_count": null,
   "metadata": {},
   "outputs": [],
   "source": [
    "# import array as arr\n",
    "from array import *\n",
    "# arr.array()\n",
    "vals = array('i',[5,9,8,4,2])\n",
    "vals = array('i',[5,9,-8,4,2])\n",
    "# vals = array('I',[5,9,-8,4,2])\n",
    "\n",
    "vals = array('i', [5,9,-8,4])\n",
    "print(id(vals))\n",
    "print(vals.buffer_info())#address of the array\n",
    "# second is the size of the array\n",
    "# vals.reverse()\n",
    "# print(vals.typecode)\n",
    "\n",
    "for i in range(len(vals)):\n",
    "    print(vals[i])\n",
    "\n",
    "#copy values array\n",
    "newArr=array(vals.typecode, (a for a in vals ))\n",
    "for e in newArr: \n",
    "    print(e)\n"
   ]
  },
  {
   "cell_type": "code",
   "execution_count": null,
   "metadata": {},
   "outputs": [],
   "source": [
    "arr = array('i',[])\n",
    "n = int(input(\"Enter the length of array\"))\n",
    "print(\"Enter your numbers\")\n",
    "for i in range(n) : \n",
    "    arr.append(int(input()))\n",
    "print(arr)"
   ]
  },
  {
   "cell_type": "code",
   "execution_count": 4,
   "metadata": {},
   "outputs": [
    {
     "name": "stdout",
     "output_type": "stream",
     "text": [
      "Array c =  array('d', [1.1, 2.1, 3.1, 2.6, 7.8, 3.7, 8.6])\n"
     ]
    }
   ],
   "source": [
    "#searching inside an array\n",
    "import array as  arr\n",
    "a=arr.array('d',[1.1 , 2.1 , 3.1, 2.6, 7.8])\n",
    "b=arr.array('d',[3.7, 8.6])\n",
    "c=arr.array('d')\n",
    "c=a+b\n",
    "print(\"Array c = \",c) "
   ]
  },
  {
   "cell_type": "code",
   "execution_count": 12,
   "metadata": {},
   "outputs": [
    {
     "name": "stdout",
     "output_type": "stream",
     "text": [
      "Original array:\n",
      "1\n",
      "2\n",
      "3\n",
      "4\n",
      "5\n",
      "Array in reverse order: \n",
      "5\n",
      "4\n",
      "3\n",
      "2\n",
      "1\n"
     ]
    }
   ],
   "source": [
    "arr = [1, 2, 3, 4, 5]\n",
    "print(\"Original array:\")\n",
    "for i in range(0, len(arr)):\n",
    "    print(arr[i]),\n",
    "print(\"Array in reverse order: \");\n",
    "#Loop through the array in reverse order -1):\n",
    "for i in range(len(arr)-1,-1,-1):\n",
    "        print(arr[i])\n",
    "        newArr=[]"
   ]
  },
  {
   "cell_type": "code",
   "execution_count": null,
   "metadata": {},
   "outputs": [],
   "source": []
  }
 ],
 "metadata": {
  "kernelspec": {
   "display_name": "Python 3 (ipykernel)",
   "language": "python",
   "name": "python3"
  },
  "language_info": {
   "codemirror_mode": {
    "name": "ipython",
    "version": 3
   },
   "file_extension": ".py",
   "mimetype": "text/x-python",
   "name": "python",
   "nbconvert_exporter": "python",
   "pygments_lexer": "ipython3",
   "version": "3.10.11"
  }
 },
 "nbformat": 4,
 "nbformat_minor": 2
}
